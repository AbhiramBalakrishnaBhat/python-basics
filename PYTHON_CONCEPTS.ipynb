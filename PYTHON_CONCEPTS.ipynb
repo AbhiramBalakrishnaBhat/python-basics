{
  "nbformat": 4,
  "nbformat_minor": 0,
  "metadata": {
    "colab": {
      "provenance": [],
      "authorship_tag": "ABX9TyNEt3gx6gE5rlPFgEiyHpO/",
      "include_colab_link": true
    },
    "kernelspec": {
      "name": "python3",
      "display_name": "Python 3"
    },
    "language_info": {
      "name": "python"
    }
  },
  "cells": [
    {
      "cell_type": "markdown",
      "metadata": {
        "id": "view-in-github",
        "colab_type": "text"
      },
      "source": [
        "<a href=\"https://colab.research.google.com/github/AbhiramBalakrishnaBhat/python-basics/blob/main/PYTHON_CONCEPTS.ipynb\" target=\"_parent\"><img src=\"https://colab.research.google.com/assets/colab-badge.svg\" alt=\"Open In Colab\"/></a>"
      ]
    },
    {
      "cell_type": "code",
      "execution_count": 1,
      "metadata": {
        "id": "x8v9asHYev0K"
      },
      "outputs": [],
      "source": [
        "x=5"
      ]
    },
    {
      "cell_type": "code",
      "source": [
        "print(x)"
      ],
      "metadata": {
        "colab": {
          "base_uri": "https://localhost:8080/"
        },
        "id": "q5FzhwTIf0jy",
        "outputId": "14131125-348c-40d7-9c58-dc52185733c9"
      },
      "execution_count": 2,
      "outputs": [
        {
          "output_type": "stream",
          "name": "stdout",
          "text": [
            "5\n"
          ]
        }
      ]
    },
    {
      "cell_type": "code",
      "source": [
        "type(x)"
      ],
      "metadata": {
        "colab": {
          "base_uri": "https://localhost:8080/"
        },
        "id": "nsCOybwUf4Lx",
        "outputId": "f4341b0e-3255-453c-cb26-7519c5d9e0c2"
      },
      "execution_count": 3,
      "outputs": [
        {
          "output_type": "execute_result",
          "data": {
            "text/plain": [
              "int"
            ]
          },
          "metadata": {},
          "execution_count": 3
        }
      ]
    },
    {
      "cell_type": "code",
      "source": [
        "x=input()"
      ],
      "metadata": {
        "colab": {
          "base_uri": "https://localhost:8080/"
        },
        "id": "MbZHsgq0f8jJ",
        "outputId": "23825320-8330-47aa-b394-b45512c6c96a"
      },
      "execution_count": 4,
      "outputs": [
        {
          "name": "stdout",
          "output_type": "stream",
          "text": [
            "5000\n"
          ]
        }
      ]
    },
    {
      "cell_type": "code",
      "source": [
        "type(x)"
      ],
      "metadata": {
        "colab": {
          "base_uri": "https://localhost:8080/"
        },
        "id": "VsF1MCdLgCzx",
        "outputId": "11792934-6d5a-4012-e2a7-032f09177234"
      },
      "execution_count": 5,
      "outputs": [
        {
          "output_type": "execute_result",
          "data": {
            "text/plain": [
              "str"
            ]
          },
          "metadata": {},
          "execution_count": 5
        }
      ]
    },
    {
      "cell_type": "code",
      "source": [
        "x=int(input())"
      ],
      "metadata": {
        "colab": {
          "base_uri": "https://localhost:8080/"
        },
        "id": "3YT1LpV9gHlQ",
        "outputId": "9f105f7b-ce96-40e6-d508-d8e8212d38e3"
      },
      "execution_count": 6,
      "outputs": [
        {
          "name": "stdout",
          "output_type": "stream",
          "text": [
            "5000\n"
          ]
        }
      ]
    },
    {
      "cell_type": "code",
      "source": [
        "type(x)"
      ],
      "metadata": {
        "colab": {
          "base_uri": "https://localhost:8080/"
        },
        "id": "7pcmcZz5gQhB",
        "outputId": "edbf911d-f15e-4094-8647-32e66fb5db3c"
      },
      "execution_count": 7,
      "outputs": [
        {
          "output_type": "execute_result",
          "data": {
            "text/plain": [
              "int"
            ]
          },
          "metadata": {},
          "execution_count": 7
        }
      ]
    },
    {
      "cell_type": "code",
      "source": [
        "mark=int(input())\n"
      ],
      "metadata": {
        "colab": {
          "base_uri": "https://localhost:8080/"
        },
        "id": "LbICS6X2gTRh",
        "outputId": "4efb3c37-02dd-47d2-a5e1-308615517c85"
      },
      "execution_count": 8,
      "outputs": [
        {
          "name": "stdout",
          "output_type": "stream",
          "text": [
            "50\n"
          ]
        }
      ]
    },
    {
      "cell_type": "code",
      "source": [
        "if mark >50 :\n",
        "   print(\"You are passed\")\n",
        "if mark <50 :\n",
        "  print(\"You are failed\")"
      ],
      "metadata": {
        "id": "eGUVSv_2hKtz"
      },
      "execution_count": 9,
      "outputs": []
    },
    {
      "cell_type": "code",
      "source": [
        "if x==50 : \n",
        "  print(\"You are just passed\")"
      ],
      "metadata": {
        "id": "SB3kGmNih5lW"
      },
      "execution_count": 10,
      "outputs": []
    },
    {
      "cell_type": "code",
      "source": [
        "if salary >=250000 :\n",
        "  print(\"You are taxable\")\n",
        "if salary <=250000 :\n",
        "  print(\"You are not taxable\")"
      ],
      "metadata": {
        "colab": {
          "base_uri": "https://localhost:8080/",
          "height": 218
        },
        "id": "01W2D3JQjgRR",
        "outputId": "0e97e17f-1ac6-4539-8340-173ea37f4537"
      },
      "execution_count": 11,
      "outputs": [
        {
          "output_type": "error",
          "ename": "NameError",
          "evalue": "ignored",
          "traceback": [
            "\u001b[0;31m---------------------------------------------------------------------------\u001b[0m",
            "\u001b[0;31mNameError\u001b[0m                                 Traceback (most recent call last)",
            "\u001b[0;32m<ipython-input-11-db623119fe80>\u001b[0m in \u001b[0;36m<module>\u001b[0;34m\u001b[0m\n\u001b[0;32m----> 1\u001b[0;31m \u001b[0;32mif\u001b[0m \u001b[0msalary\u001b[0m \u001b[0;34m>=\u001b[0m\u001b[0;36m250000\u001b[0m \u001b[0;34m:\u001b[0m\u001b[0;34m\u001b[0m\u001b[0;34m\u001b[0m\u001b[0m\n\u001b[0m\u001b[1;32m      2\u001b[0m   \u001b[0mprint\u001b[0m\u001b[0;34m(\u001b[0m\u001b[0;34m\"You are taxable\"\u001b[0m\u001b[0;34m)\u001b[0m\u001b[0;34m\u001b[0m\u001b[0;34m\u001b[0m\u001b[0m\n\u001b[1;32m      3\u001b[0m \u001b[0;32mif\u001b[0m \u001b[0msalary\u001b[0m \u001b[0;34m<=\u001b[0m\u001b[0;36m250000\u001b[0m \u001b[0;34m:\u001b[0m\u001b[0;34m\u001b[0m\u001b[0;34m\u001b[0m\u001b[0m\n\u001b[1;32m      4\u001b[0m   \u001b[0mprint\u001b[0m\u001b[0;34m(\u001b[0m\u001b[0;34m\"You are not taxable\"\u001b[0m\u001b[0;34m)\u001b[0m\u001b[0;34m\u001b[0m\u001b[0;34m\u001b[0m\u001b[0m\n",
            "\u001b[0;31mNameError\u001b[0m: name 'salary' is not defined"
          ]
        }
      ]
    },
    {
      "cell_type": "code",
      "source": [
        "salary=int(input())"
      ],
      "metadata": {
        "id": "6jGA0S-dkBYz"
      },
      "execution_count": null,
      "outputs": []
    },
    {
      "cell_type": "code",
      "source": [
        "if salary >=250000 :\n",
        "  print(\"You are taxable\")\n",
        "if salary <=250000 :\n",
        "  print(\"You are not taxiable\")      )"
      ],
      "metadata": {
        "id": "Y9faw676ljNq"
      },
      "execution_count": null,
      "outputs": []
    },
    {
      "cell_type": "code",
      "source": [
        "salary=int(input())"
      ],
      "metadata": {
        "id": "jQ8z7f5Jl1Wo"
      },
      "execution_count": null,
      "outputs": []
    },
    {
      "cell_type": "code",
      "source": [
        "salary*10/100"
      ],
      "metadata": {
        "id": "KOdjUygJmCpV"
      },
      "execution_count": null,
      "outputs": []
    },
    {
      "cell_type": "code",
      "source": [
        "salary=int(input())*10/100"
      ],
      "metadata": {
        "id": "tHOljcmemQOs"
      },
      "execution_count": null,
      "outputs": []
    },
    {
      "cell_type": "code",
      "source": [
        "salary"
      ],
      "metadata": {
        "id": "2aq5O_P1oSVr"
      },
      "execution_count": null,
      "outputs": []
    },
    {
      "cell_type": "code",
      "source": [
        "salary=int(input())\n"
      ],
      "metadata": {
        "id": "opmG9vmUocp0"
      },
      "execution_count": null,
      "outputs": []
    },
    {
      "cell_type": "code",
      "source": [],
      "metadata": {
        "id": "sga_7vdGsN_D"
      },
      "execution_count": null,
      "outputs": []
    },
    {
      "cell_type": "code",
      "source": [
        "salary=int(input(\"enter the salary\"))\n",
        "if salary >=250000 :\n",
        "  print (\"you are taxable\")\n",
        "salary=300000\n",
        "amount=(300000-250000)\n",
        "print(amount*10/100)"
      ],
      "metadata": {
        "id": "bYZFcGvosX8T"
      },
      "execution_count": null,
      "outputs": []
    },
    {
      "cell_type": "code",
      "source": [],
      "metadata": {
        "id": "oiCz5BXduoS0"
      },
      "execution_count": null,
      "outputs": []
    }
  ]
}