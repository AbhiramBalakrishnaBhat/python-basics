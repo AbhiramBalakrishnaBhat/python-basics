{
  "nbformat": 4,
  "nbformat_minor": 0,
  "metadata": {
    "colab": {
      "provenance": [],
      "authorship_tag": "ABX9TyMv3iMljIiBAR3L2jqHFM3k",
      "include_colab_link": true
    },
    "kernelspec": {
      "name": "python3",
      "display_name": "Python 3"
    },
    "language_info": {
      "name": "python"
    }
  },
  "cells": [
    {
      "cell_type": "markdown",
      "metadata": {
        "id": "view-in-github",
        "colab_type": "text"
      },
      "source": [
        "<a href=\"https://colab.research.google.com/github/AbhiramBalakrishnaBhat/python-basics/blob/main/Untitled9.ipynb\" target=\"_parent\"><img src=\"https://colab.research.google.com/assets/colab-badge.svg\" alt=\"Open In Colab\"/></a>"
      ]
    },
    {
      "cell_type": "code",
      "execution_count": null,
      "metadata": {
        "colab": {
          "base_uri": "https://localhost:8080/"
        },
        "id": "Hze_7kBwj-d0",
        "outputId": "f75b60d2-7519-47c5-a2d8-4ba0e8992953"
      },
      "outputs": [
        {
          "output_type": "stream",
          "name": "stdout",
          "text": [
            "10\n",
            "absolute value of 10 is 10\n"
          ]
        }
      ],
      "source": [
        "num=int(input())\n",
        "if(num>0):\n",
        "  print(\"absolute value of\",num,\"is\",num)\n",
        "else:\n",
        "  num=num*(-1)\n",
        "  print(\"absolute value of\",num,\"is\",num)                  "
      ]
    },
    {
      "cell_type": "code",
      "source": [
        "num=int(input(\"marks\"))\n",
        "if(num<25):\n",
        "  print(\"f\")\n",
        "elif(num>25 and num<45):\n",
        "  print(\"e\")\n",
        "elif(num>45 and num<50):\n",
        "  print(\"d\")\n",
        "elif(num>50 and num<60):\n",
        "  print(\"c\")\n",
        "elif(num>60 and num<80):\n",
        "  print(\"b\")\n",
        "else:\n",
        "  print(\"a\")\n"
      ],
      "metadata": {
        "colab": {
          "base_uri": "https://localhost:8080/"
        },
        "id": "cxdL10cwlQkY",
        "outputId": "cd0ef60c-183c-4180-c41b-c92456d96f2e"
      },
      "execution_count": null,
      "outputs": [
        {
          "output_type": "stream",
          "name": "stdout",
          "text": [
            "marks100\n",
            "a\n"
          ]
        }
      ]
    },
    {
      "cell_type": "code",
      "source": [
        "x=int(input(\"num of classes held\"))\n",
        "y=int(input(\"num of classes attended\"))\n",
        "z=(x*y)//100\n",
        "print(z,\"%\")\n",
        "if(z>=75):\n",
        "  print(\"allowed\")\n",
        "if(z<75):\n",
        "  print(\"not allowed\")\n",
        "  \n",
        "\n"
      ],
      "metadata": {
        "colab": {
          "base_uri": "https://localhost:8080/"
        },
        "id": "465WrieOqMjl",
        "outputId": "c524d712-f64d-4c9b-c695-ceabe100b4ef"
      },
      "execution_count": null,
      "outputs": [
        {
          "output_type": "stream",
          "name": "stdout",
          "text": [
            "num of classes held150\n",
            "num of classes attended50\n",
            "75 %\n",
            "allowed\n"
          ]
        }
      ]
    },
    {
      "cell_type": "code",
      "source": [
        "eng=int(input(\"english marks\"))\n",
        "math=int(input(\"maths marks\"))\n",
        "eco=int(input(\"economics marks\"))\n",
        "bs=int(input(\"business studies marks\"))\n",
        "mal=int(input(\"malayalam marks\"))\n",
        "z= int(\"eng,math,eco,bs,mal\")"
      ],
      "metadata": {
        "id": "LF6KGbM_wFP5",
        "colab": {
          "base_uri": "https://localhost:8080/",
          "height": 287
        },
        "outputId": "4c3bca38-ccd6-449e-d6c8-e7ff10715d73"
      },
      "execution_count": 14,
      "outputs": [
        {
          "name": "stdout",
          "output_type": "stream",
          "text": [
            "english marks 40\n",
            "maths marks     45\n",
            "economics marks  50\n",
            "business studies marks  40\n",
            "malayalam marks  50\n"
          ]
        },
        {
          "output_type": "error",
          "ename": "ValueError",
          "evalue": "ignored",
          "traceback": [
            "\u001b[0;31m---------------------------------------------------------------------------\u001b[0m",
            "\u001b[0;31mValueError\u001b[0m                                Traceback (most recent call last)",
            "\u001b[0;32m<ipython-input-14-c340d0309a80>\u001b[0m in \u001b[0;36m<module>\u001b[0;34m\u001b[0m\n\u001b[1;32m      4\u001b[0m \u001b[0mbs\u001b[0m\u001b[0;34m=\u001b[0m\u001b[0mint\u001b[0m\u001b[0;34m(\u001b[0m\u001b[0minput\u001b[0m\u001b[0;34m(\u001b[0m\u001b[0;34m\"business studies marks\"\u001b[0m\u001b[0;34m)\u001b[0m\u001b[0;34m)\u001b[0m\u001b[0;34m\u001b[0m\u001b[0;34m\u001b[0m\u001b[0m\n\u001b[1;32m      5\u001b[0m \u001b[0mmal\u001b[0m\u001b[0;34m=\u001b[0m\u001b[0mint\u001b[0m\u001b[0;34m(\u001b[0m\u001b[0minput\u001b[0m\u001b[0;34m(\u001b[0m\u001b[0;34m\"malayalam marks\"\u001b[0m\u001b[0;34m)\u001b[0m\u001b[0;34m)\u001b[0m\u001b[0;34m\u001b[0m\u001b[0;34m\u001b[0m\u001b[0m\n\u001b[0;32m----> 6\u001b[0;31m \u001b[0mz\u001b[0m\u001b[0;34m=\u001b[0m \u001b[0mint\u001b[0m\u001b[0;34m(\u001b[0m\u001b[0;34m\"eng,math,eco,bs,mal\"\u001b[0m\u001b[0;34m)\u001b[0m\u001b[0;34m\u001b[0m\u001b[0;34m\u001b[0m\u001b[0m\n\u001b[0m",
            "\u001b[0;31mValueError\u001b[0m: invalid literal for int() with base 10: 'eng,math,eco,bs,mal'"
          ]
        }
      ]
    },
    {
      "cell_type": "code",
      "source": [],
      "metadata": {
        "id": "PcLF3PhW5rN0"
      },
      "execution_count": null,
      "outputs": []
    }
  ]
}