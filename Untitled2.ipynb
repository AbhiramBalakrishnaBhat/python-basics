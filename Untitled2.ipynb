{
  "nbformat": 4,
  "nbformat_minor": 0,
  "metadata": {
    "colab": {
      "provenance": [],
      "authorship_tag": "ABX9TyMAtlBXIHDquYnJyZcIrscC",
      "include_colab_link": true
    },
    "kernelspec": {
      "name": "python3",
      "display_name": "Python 3"
    },
    "language_info": {
      "name": "python"
    }
  },
  "cells": [
    {
      "cell_type": "markdown",
      "metadata": {
        "id": "view-in-github",
        "colab_type": "text"
      },
      "source": [
        "<a href=\"https://colab.research.google.com/github/AbhiramBalakrishnaBhat/python-basics/blob/main/Untitled2.ipynb\" target=\"_parent\"><img src=\"https://colab.research.google.com/assets/colab-badge.svg\" alt=\"Open In Colab\"/></a>"
      ]
    },
    {
      "cell_type": "code",
      "execution_count": null,
      "metadata": {
        "id": "zX9BifFWYum2"
      },
      "outputs": [],
      "source": [
        "x=[10,20,30,40,50]"
      ]
    },
    {
      "cell_type": "code",
      "source": [
        "print(x)"
      ],
      "metadata": {
        "colab": {
          "base_uri": "https://localhost:8080/"
        },
        "id": "700tUpGrY1th",
        "outputId": "a330f2df-32e9-4535-bfd9-e8595f0c4286"
      },
      "execution_count": null,
      "outputs": [
        {
          "output_type": "stream",
          "name": "stdout",
          "text": [
            "[10, 20, 30, 40, 50]\n"
          ]
        }
      ]
    },
    {
      "cell_type": "code",
      "source": [
        "type(x)"
      ],
      "metadata": {
        "colab": {
          "base_uri": "https://localhost:8080/"
        },
        "id": "p_9nAC3yY6CO",
        "outputId": "c44ce5cd-5f32-4200-ad13-ba9d514e0b2f"
      },
      "execution_count": null,
      "outputs": [
        {
          "output_type": "execute_result",
          "data": {
            "text/plain": [
              "list"
            ]
          },
          "metadata": {},
          "execution_count": 3
        }
      ]
    },
    {
      "cell_type": "code",
      "source": [
        "x[0]"
      ],
      "metadata": {
        "colab": {
          "base_uri": "https://localhost:8080/"
        },
        "id": "DTkicddnY7nG",
        "outputId": "9ff56fa4-0aeb-4f5b-fb8e-607516115329"
      },
      "execution_count": null,
      "outputs": [
        {
          "output_type": "execute_result",
          "data": {
            "text/plain": [
              "10"
            ]
          },
          "metadata": {},
          "execution_count": 7
        }
      ]
    },
    {
      "cell_type": "code",
      "source": [
        "x[4]"
      ],
      "metadata": {
        "colab": {
          "base_uri": "https://localhost:8080/"
        },
        "id": "qd8ws3geZ9P8",
        "outputId": "5a1a6d5e-eb82-4e9d-ba1a-28b4aa982f7b"
      },
      "execution_count": null,
      "outputs": [
        {
          "output_type": "execute_result",
          "data": {
            "text/plain": [
              "50"
            ]
          },
          "metadata": {},
          "execution_count": 9
        }
      ]
    },
    {
      "cell_type": "code",
      "source": [
        "x=[10,20,30,40]\n",
        "y=[35,46,22,96]"
      ],
      "metadata": {
        "id": "cag0KHdKadn1"
      },
      "execution_count": null,
      "outputs": []
    },
    {
      "cell_type": "code",
      "source": [
        "x[0]*y[0]+x[1]*y[1]+x[2]*y[2]+x[3]*y[3]"
      ],
      "metadata": {
        "colab": {
          "base_uri": "https://localhost:8080/"
        },
        "id": "PybRRgEvaygD",
        "outputId": "bfc5ee80-4a02-479b-99fc-5042d554f08c"
      },
      "execution_count": null,
      "outputs": [
        {
          "output_type": "execute_result",
          "data": {
            "text/plain": [
              "5770"
            ]
          },
          "metadata": {},
          "execution_count": 11
        }
      ]
    },
    {
      "cell_type": "code",
      "source": [
        "x=[\"Kerala\",\"Tamil Nadu\"]\n",
        "y=[\"Chennai\",\"Trivandrum\"]"
      ],
      "metadata": {
        "id": "TRqmD67UbU2k"
      },
      "execution_count": null,
      "outputs": []
    },
    {
      "cell_type": "code",
      "source": [
        "print(x[0],y[1])\n",
        "print(x[1],y[0])"
      ],
      "metadata": {
        "colab": {
          "base_uri": "https://localhost:8080/"
        },
        "id": "dGuCtW3NdvVq",
        "outputId": "bafb0d76-333a-49c6-8c83-ba05f3ae2850"
      },
      "execution_count": null,
      "outputs": [
        {
          "output_type": "stream",
          "name": "stdout",
          "text": [
            "Kerala Trivandrum\n",
            "Tamil Nadu Chennai\n"
          ]
        }
      ]
    },
    {
      "cell_type": "code",
      "source": [
        "x=[10,25,26,36,39,55]"
      ],
      "metadata": {
        "id": "rz_5tt59d3BJ"
      },
      "execution_count": null,
      "outputs": []
    },
    {
      "cell_type": "code",
      "source": [
        "x[-1]"
      ],
      "metadata": {
        "colab": {
          "base_uri": "https://localhost:8080/"
        },
        "id": "SPB34n0zd6Hp",
        "outputId": "a285f717-695e-4021-9878-b3e4ac2c3e44"
      },
      "execution_count": null,
      "outputs": [
        {
          "output_type": "execute_result",
          "data": {
            "text/plain": [
              "55"
            ]
          },
          "metadata": {},
          "execution_count": 22
        }
      ]
    },
    {
      "cell_type": "code",
      "source": [
        "x[-4]"
      ],
      "metadata": {
        "colab": {
          "base_uri": "https://localhost:8080/"
        },
        "id": "HXTUchqof6EM",
        "outputId": "38da0344-3921-437d-d42f-2ae665b09159"
      },
      "execution_count": null,
      "outputs": [
        {
          "output_type": "execute_result",
          "data": {
            "text/plain": [
              "26"
            ]
          },
          "metadata": {},
          "execution_count": 23
        }
      ]
    },
    {
      "cell_type": "code",
      "source": [
        "x[-3]"
      ],
      "metadata": {
        "colab": {
          "base_uri": "https://localhost:8080/"
        },
        "id": "g97WRiKhf-Lc",
        "outputId": "2ba8b737-88ce-4121-b1d4-869cc908a50f"
      },
      "execution_count": null,
      "outputs": [
        {
          "output_type": "execute_result",
          "data": {
            "text/plain": [
              "36"
            ]
          },
          "metadata": {},
          "execution_count": 24
        }
      ]
    },
    {
      "cell_type": "code",
      "source": [
        "x[-5]"
      ],
      "metadata": {
        "colab": {
          "base_uri": "https://localhost:8080/"
        },
        "id": "OO5L79QNgCQo",
        "outputId": "f9177856-8a16-4eaf-f3be-19fa2efa489c"
      },
      "execution_count": null,
      "outputs": [
        {
          "output_type": "execute_result",
          "data": {
            "text/plain": [
              "25"
            ]
          },
          "metadata": {},
          "execution_count": 25
        }
      ]
    },
    {
      "cell_type": "code",
      "source": [
        "x[-2]"
      ],
      "metadata": {
        "colab": {
          "base_uri": "https://localhost:8080/"
        },
        "id": "oQzMNA_igFdY",
        "outputId": "8e6cd141-09b3-49df-ae74-dea3ec482a4a"
      },
      "execution_count": null,
      "outputs": [
        {
          "output_type": "execute_result",
          "data": {
            "text/plain": [
              "39"
            ]
          },
          "metadata": {},
          "execution_count": 26
        }
      ]
    },
    {
      "cell_type": "code",
      "source": [
        "x[-5]*x[-3]"
      ],
      "metadata": {
        "colab": {
          "base_uri": "https://localhost:8080/"
        },
        "id": "2m3DYcrWgIKI",
        "outputId": "2f1722e5-524d-4a6b-ed99-c0e7bbc3399e"
      },
      "execution_count": null,
      "outputs": [
        {
          "output_type": "execute_result",
          "data": {
            "text/plain": [
              "900"
            ]
          },
          "metadata": {},
          "execution_count": 27
        }
      ]
    },
    {
      "cell_type": "code",
      "source": [
        "if x[3]==10:\n",
        "  print(\"X is 10\" )\n",
        "else:\n",
        "  print(\"X is not 10\")"
      ],
      "metadata": {
        "colab": {
          "base_uri": "https://localhost:8080/"
        },
        "id": "dftjx-A2hIMV",
        "outputId": "0588f2e8-9325-491f-b7d1-c37813772ea3"
      },
      "execution_count": null,
      "outputs": [
        {
          "output_type": "stream",
          "name": "stdout",
          "text": [
            "X is not 10\n"
          ]
        }
      ]
    },
    {
      "cell_type": "code",
      "source": [
        "if x[-1]==55:\n",
        "  print(\"X is 55\")\n",
        "else:\n",
        "  print(\"X is not 55\")"
      ],
      "metadata": {
        "colab": {
          "base_uri": "https://localhost:8080/"
        },
        "id": "r9Ks8q_8i5B5",
        "outputId": "39b8e7b6-2050-49d3-8575-ce6e3abdd421"
      },
      "execution_count": null,
      "outputs": [
        {
          "output_type": "stream",
          "name": "stdout",
          "text": [
            "X is 55\n"
          ]
        }
      ]
    },
    {
      "cell_type": "code",
      "source": [
        "x=\"Abhiram Bhat\"\n",
        "x[0]"
      ],
      "metadata": {
        "colab": {
          "base_uri": "https://localhost:8080/",
          "height": 35
        },
        "id": "dA9_mc6ZjeYB",
        "outputId": "37ae430e-3d04-497c-b6de-fdfd913ec0f2"
      },
      "execution_count": null,
      "outputs": [
        {
          "output_type": "execute_result",
          "data": {
            "text/plain": [
              "'A'"
            ],
            "application/vnd.google.colaboratory.intrinsic+json": {
              "type": "string"
            }
          },
          "metadata": {},
          "execution_count": 30
        }
      ]
    },
    {
      "cell_type": "code",
      "source": [
        "x[-1]"
      ],
      "metadata": {
        "colab": {
          "base_uri": "https://localhost:8080/",
          "height": 35
        },
        "id": "ymzqBycgkE5H",
        "outputId": "1b0a432b-3020-4499-dcdf-bde010e9476c"
      },
      "execution_count": null,
      "outputs": [
        {
          "output_type": "execute_result",
          "data": {
            "text/plain": [
              "'t'"
            ],
            "application/vnd.google.colaboratory.intrinsic+json": {
              "type": "string"
            }
          },
          "metadata": {},
          "execution_count": 31
        }
      ]
    },
    {
      "cell_type": "code",
      "source": [
        "x[10]"
      ],
      "metadata": {
        "colab": {
          "base_uri": "https://localhost:8080/",
          "height": 35
        },
        "id": "MwuGn7dXkJCy",
        "outputId": "05116279-d200-4dcb-d163-8cb3b5984f01"
      },
      "execution_count": null,
      "outputs": [
        {
          "output_type": "execute_result",
          "data": {
            "text/plain": [
              "'a'"
            ],
            "application/vnd.google.colaboratory.intrinsic+json": {
              "type": "string"
            }
          },
          "metadata": {},
          "execution_count": 32
        }
      ]
    },
    {
      "cell_type": "code",
      "source": [
        "x[11]"
      ],
      "metadata": {
        "colab": {
          "base_uri": "https://localhost:8080/",
          "height": 35
        },
        "id": "SgJ2MD7SkS3C",
        "outputId": "0c1d09f8-0467-4631-f1cf-c0c59eb3d6b7"
      },
      "execution_count": null,
      "outputs": [
        {
          "output_type": "execute_result",
          "data": {
            "text/plain": [
              "'t'"
            ],
            "application/vnd.google.colaboratory.intrinsic+json": {
              "type": "string"
            }
          },
          "metadata": {},
          "execution_count": 33
        }
      ]
    },
    {
      "cell_type": "code",
      "source": [
        "if x[0]==x[-1]:\n",
        "  print(\"it is same\")\n",
        "else:\n",
        "  print(\"it is not same\")"
      ],
      "metadata": {
        "colab": {
          "base_uri": "https://localhost:8080/"
        },
        "id": "0zqIMqpukWjK",
        "outputId": "a303d6e1-511a-41cf-d358-ae70c5f2915d"
      },
      "execution_count": null,
      "outputs": [
        {
          "output_type": "stream",
          "name": "stdout",
          "text": [
            "it is not same\n"
          ]
        }
      ]
    },
    {
      "cell_type": "code",
      "source": [
        "x=[10,25,26,36,39,55]\n",
        "for a in x :\n",
        "  print(a)"
      ],
      "metadata": {
        "id": "L9JpowWTk31T",
        "colab": {
          "base_uri": "https://localhost:8080/"
        },
        "outputId": "63dc6efa-9c72-4335-aa7d-b7388b771b78"
      },
      "execution_count": null,
      "outputs": [
        {
          "output_type": "stream",
          "name": "stdout",
          "text": [
            "10\n",
            "25\n",
            "26\n",
            "36\n",
            "39\n",
            "55\n"
          ]
        }
      ]
    },
    {
      "cell_type": "code",
      "source": [
        "x=[\"Abhiram Bhat\"]\n",
        "for a in x :\n",
        "  print(a)"
      ],
      "metadata": {
        "id": "GeBWNZMwnQMG",
        "colab": {
          "base_uri": "https://localhost:8080/"
        },
        "outputId": "c314986f-5c72-4f5d-b48a-cc1c3fb45f80"
      },
      "execution_count": 37,
      "outputs": [
        {
          "output_type": "stream",
          "name": "stdout",
          "text": [
            "Abhiram Bhat\n"
          ]
        }
      ]
    },
    {
      "cell_type": "code",
      "source": [
        "x=\"Abhiram Bhat\"\n",
        "for a in x:\n",
        "  if a=='i':\n",
        "    print('yes')\n",
        "\n"
      ],
      "metadata": {
        "colab": {
          "base_uri": "https://localhost:8080/"
        },
        "id": "3jZMz1lBoLV7",
        "outputId": "a98cf606-cd3f-486d-a675-8333ab235f01"
      },
      "execution_count": 46,
      "outputs": [
        {
          "output_type": "stream",
          "name": "stdout",
          "text": [
            "yes\n"
          ]
        }
      ]
    },
    {
      "cell_type": "code",
      "source": [
        "  x=[10,25,26,36,39,55]\n",
        "  k=0\n",
        "  for a in x:\n",
        "    print(\"k=\",k)\n",
        "    print(\"a=\",a)\n",
        "    k=k+a\n",
        "    print(\"k+a =\", k)"
      ],
      "metadata": {
        "colab": {
          "base_uri": "https://localhost:8080/"
        },
        "id": "DpsHDAFBpQqu",
        "outputId": "34306f8b-b89d-480f-e98f-a268db4f6adc"
      },
      "execution_count": 47,
      "outputs": [
        {
          "output_type": "stream",
          "name": "stdout",
          "text": [
            "k= 0\n",
            "a= 10\n",
            "k+a = 10\n",
            "k= 10\n",
            "a= 25\n",
            "k+a = 35\n",
            "k= 35\n",
            "a= 26\n",
            "k+a = 61\n",
            "k= 61\n",
            "a= 36\n",
            "k+a = 97\n",
            "k= 97\n",
            "a= 39\n",
            "k+a = 136\n",
            "k= 136\n",
            "a= 55\n",
            "k+a = 191\n"
          ]
        }
      ]
    },
    {
      "cell_type": "code",
      "source": [],
      "metadata": {
        "id": "w829jn-awTKr"
      },
      "execution_count": null,
      "outputs": []
    }
  ]
}