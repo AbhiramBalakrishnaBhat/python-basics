{
  "nbformat": 4,
  "nbformat_minor": 0,
  "metadata": {
    "colab": {
      "provenance": [],
      "authorship_tag": "ABX9TyOf856y6nngv9yVlD8F+J73",
      "include_colab_link": true
    },
    "kernelspec": {
      "name": "python3",
      "display_name": "Python 3"
    },
    "language_info": {
      "name": "python"
    }
  },
  "cells": [
    {
      "cell_type": "markdown",
      "metadata": {
        "id": "view-in-github",
        "colab_type": "text"
      },
      "source": [
        "<a href=\"https://colab.research.google.com/github/AbhiramBalakrishnaBhat/python-basics/blob/main/Untitled7.ipynb\" target=\"_parent\"><img src=\"https://colab.research.google.com/assets/colab-badge.svg\" alt=\"Open In Colab\"/></a>"
      ]
    },
    {
      "cell_type": "code",
      "execution_count": 4,
      "metadata": {
        "colab": {
          "base_uri": "https://localhost:8080/"
        },
        "id": "NnJyU-qFo5ts",
        "outputId": "c596631c-5889-4db6-e7b2-acf57613ea9a"
      },
      "outputs": [
        {
          "output_type": "stream",
          "name": "stdout",
          "text": [
            "Enter the travel Source KERALA\n",
            "Enter the travel Destination TAMILNADU\n",
            "Number of passengers 400\n",
            " KERALA  TAMILNADU 400\n"
          ]
        }
      ],
      "source": [
        "x=(input(\"Enter the travel Source\"))\n",
        "y=(input(\"Enter the travel Destination\"))\n",
        "z=int(input(\"Number of passengers\"))\n",
        "print(x,y,z)\n"
      ]
    },
    {
      "cell_type": "code",
      "source": [
        "x=int(input(\"total amount of ticket\"))\n",
        "y=int(input(\"total number of passengers\"))\n",
        "totalamount = print(x/y)"
      ],
      "metadata": {
        "colab": {
          "base_uri": "https://localhost:8080/"
        },
        "id": "zMI8mqHkqhwk",
        "outputId": "fc1777b7-add5-4b1c-c2a3-dc4e86c7fc2d"
      },
      "execution_count": 16,
      "outputs": [
        {
          "output_type": "stream",
          "name": "stdout",
          "text": [
            "total amount of ticket 100\n",
            "total number of passengers  20\n",
            "5.0\n"
          ]
        }
      ]
    },
    {
      "cell_type": "code",
      "source": [
        "t=int(input(\"total ticket fare\"))\n",
        "if t>10000:\n",
        "  print(\"eligible\")\n",
        "else:\n",
        "  print(\"not eligible\")"
      ],
      "metadata": {
        "colab": {
          "base_uri": "https://localhost:8080/"
        },
        "id": "WvrKQirBszyt",
        "outputId": "c574b87a-6691-4592-99ed-d0c08aa6ee62"
      },
      "execution_count": 18,
      "outputs": [
        {
          "output_type": "stream",
          "name": "stdout",
          "text": [
            "total ticket fare 100000\n",
            "eligible\n"
          ]
        }
      ]
    },
    {
      "cell_type": "code",
      "source": [
        "int(input(\"Total TIcket Fare \"))\n",
        "if x>15000:\n",
        "  print(\"Eligible for 20% discount\")\n",
        "else:\n",
        "  print(\"Eligible for 10% discount\")\n"
      ],
      "metadata": {
        "colab": {
          "base_uri": "https://localhost:8080/"
        },
        "id": "NWwtiz5Iwvgr",
        "outputId": "1f2e3da4-b787-4ef8-90a3-f63e63dfea69"
      },
      "execution_count": 31,
      "outputs": [
        {
          "output_type": "stream",
          "name": "stdout",
          "text": [
            "Total TIcket Fare  10000\n",
            "Eligible for 10% discount\n"
          ]
        }
      ]
    },
    {
      "cell_type": "code",
      "source": [
        "x=int(input(\"Total TIcket Fare \"))\n",
        "if x>15000:\n",
        "  print(\"Eligible for 20% discount\")\n",
        "  print(x*20/100)\n",
        "else:\n",
        "  print(\"Eligible for 10% discount\")\n",
        "  print(x*10/100)\n"
      ],
      "metadata": {
        "colab": {
          "base_uri": "https://localhost:8080/"
        },
        "id": "cptcLUX5yEl0",
        "outputId": "3254196e-9b97-4285-b242-ada03b7ab550"
      },
      "execution_count": 36,
      "outputs": [
        {
          "output_type": "stream",
          "name": "stdout",
          "text": [
            "Total TIcket Fare  10000\n",
            "Eligible for 10% discount\n",
            "1000.0\n"
          ]
        }
      ]
    },
    {
      "cell_type": "code",
      "source": [
        "int(input(\"Enter A Number \"))\n",
        "if x%2==0:\n",
        "  print(\"The Number is Even\")\n",
        "elif x%2!=0:\n",
        "  print(\"The Number is Odd\")\n",
        "else:\n",
        "  print(\"Number is Zero\")"
      ],
      "metadata": {
        "colab": {
          "base_uri": "https://localhost:8080/"
        },
        "id": "ujyVU6190hYK",
        "outputId": "3fd6c1b1-b112-474b-9e47-436b2a252f1d"
      },
      "execution_count": 29,
      "outputs": [
        {
          "output_type": "stream",
          "name": "stdout",
          "text": [
            "Enter A Number  1000\n",
            "The Number is Even\n"
          ]
        }
      ]
    },
    {
      "cell_type": "code",
      "source": [
        "int(input(\"Age of Passenger \"))\n",
        "if x>18:\n",
        "  print(\"Adult\")\n",
        "elif x>12 and x<18:\n",
        "  print(\"Teenager\")\n",
        "elif x>5 and x<11:\n",
        "  print(\"Kid\")\n",
        "else:\n",
        "  print(\"Infant\")"
      ],
      "metadata": {
        "colab": {
          "base_uri": "https://localhost:8080/"
        },
        "id": "hmfsO0y80rXh",
        "outputId": "a96906e8-a9fe-4827-ddd9-602d2582fc2b"
      },
      "execution_count": 38,
      "outputs": [
        {
          "output_type": "stream",
          "name": "stdout",
          "text": [
            "Age of Passenger  17\n",
            "Adult\n"
          ]
        }
      ]
    },
    {
      "cell_type": "code",
      "source": [
        "x=input(\"Passengers Initial \")\n",
        "if x==\"a\":\n",
        "  print(\"Vowel\")\n",
        "elif x==\"e\":\n",
        "  print(\"Vowel\")\n",
        "elif x==\"i\":\n",
        "  print(\"Vowel\")\n",
        "elif x==\"o\":\n",
        "  print(\"Vowel\")\n",
        "elif x==\"u\":\n",
        "  print(\"Vowel\")\n",
        "else:\n",
        "  print(\"Not Vowel\")"
      ],
      "metadata": {
        "colab": {
          "base_uri": "https://localhost:8080/"
        },
        "id": "5OqtnYfg1GU5",
        "outputId": "9cee4ee5-ca84-495a-b1a1-9a2d0dd6dc29"
      },
      "execution_count": 44,
      "outputs": [
        {
          "output_type": "stream",
          "name": "stdout",
          "text": [
            "Passengers Initial a\n",
            "Vowel\n"
          ]
        }
      ]
    },
    {
      "cell_type": "code",
      "source": [
        "n=(\"Abhiram Bhat\")\n",
        "for a in n:\n",
        "  print(a)"
      ],
      "metadata": {
        "colab": {
          "base_uri": "https://localhost:8080/"
        },
        "id": "gZQdKOog4gX1",
        "outputId": "7cd6323e-3535-40bf-882c-ad58e08ebdb6"
      },
      "execution_count": 53,
      "outputs": [
        {
          "output_type": "stream",
          "name": "stdout",
          "text": [
            "A\n",
            "b\n",
            "h\n",
            "i\n",
            "r\n",
            "a\n",
            "m\n",
            " \n",
            "B\n",
            "h\n",
            "a\n",
            "t\n"
          ]
        }
      ]
    },
    {
      "cell_type": "code",
      "source": [
        "for i in range(45,89,2):\n",
        "  print(i)\n",
        "\n",
        "\n",
        " \n",
        "\n"
      ],
      "metadata": {
        "colab": {
          "base_uri": "https://localhost:8080/"
        },
        "id": "Satl-Dui6cYn",
        "outputId": "bcc049a5-2784-4a15-d034-067b33f44d80"
      },
      "execution_count": 54,
      "outputs": [
        {
          "output_type": "stream",
          "name": "stdout",
          "text": [
            "45\n",
            "47\n",
            "49\n",
            "51\n",
            "53\n",
            "55\n",
            "57\n",
            "59\n",
            "61\n",
            "63\n",
            "65\n",
            "67\n",
            "69\n",
            "71\n",
            "73\n",
            "75\n",
            "77\n",
            "79\n",
            "81\n",
            "83\n",
            "85\n",
            "87\n"
          ]
        }
      ]
    },
    {
      "cell_type": "code",
      "source": [],
      "metadata": {
        "id": "PzKJDIqA7XZA"
      },
      "execution_count": null,
      "outputs": []
    }
  ]
}