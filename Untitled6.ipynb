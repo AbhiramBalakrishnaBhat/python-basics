{
  "nbformat": 4,
  "nbformat_minor": 0,
  "metadata": {
    "colab": {
      "provenance": [],
      "collapsed_sections": [],
      "authorship_tag": "ABX9TyOG7Q/ZkUOKxHesCL0xHCmV",
      "include_colab_link": true
    },
    "kernelspec": {
      "name": "python3",
      "display_name": "Python 3"
    },
    "language_info": {
      "name": "python"
    }
  },
  "cells": [
    {
      "cell_type": "markdown",
      "metadata": {
        "id": "view-in-github",
        "colab_type": "text"
      },
      "source": [
        "<a href=\"https://colab.research.google.com/github/AbhiramBalakrishnaBhat/python-basics/blob/main/Untitled6.ipynb\" target=\"_parent\"><img src=\"https://colab.research.google.com/assets/colab-badge.svg\" alt=\"Open In Colab\"/></a>"
      ]
    },
    {
      "cell_type": "code",
      "execution_count": null,
      "metadata": {
        "id": "Vh55v_ZIf198"
      },
      "outputs": [],
      "source": []
    },
    {
      "cell_type": "markdown",
      "source": [
        "simple program\n"
      ],
      "metadata": {
        "id": "vbJfvbDViIBX"
      }
    },
    {
      "cell_type": "code",
      "source": [
        "name=input(\"Enter the Name\")\n",
        "print(name)"
      ],
      "metadata": {
        "colab": {
          "base_uri": "https://localhost:8080/"
        },
        "id": "JRHPozaLiLYn",
        "outputId": "0976ef9c-0667-49e8-926b-eb480431434e"
      },
      "execution_count": 2,
      "outputs": [
        {
          "output_type": "stream",
          "name": "stdout",
          "text": [
            "Enter the Nameabhiram\n",
            "abhiram\n"
          ]
        }
      ]
    },
    {
      "cell_type": "code",
      "source": [
        "mark=int(input(\"Enter mark 1\"))\n",
        "mark=int(input(\"Enter mark 2\"))\n",
        "mark=int(input(\"Enter mark 3\"))\n",
        "total=mark+mark+mark\n",
        "print(total)\n"
      ],
      "metadata": {
        "colab": {
          "base_uri": "https://localhost:8080/"
        },
        "id": "ACvf3iQgiWNR",
        "outputId": "6e533fc6-c81f-4213-e5ac-7d12491fa4e0"
      },
      "execution_count": 13,
      "outputs": [
        {
          "output_type": "stream",
          "name": "stdout",
          "text": [
            "Enter mark 1 90\n",
            "Enter mark 2 90\n",
            "Enter mark 3 95\n",
            "285\n"
          ]
        }
      ]
    },
    {
      "cell_type": "code",
      "source": [
        "avg=total/3\n",
        "print(avg)"
      ],
      "metadata": {
        "colab": {
          "base_uri": "https://localhost:8080/"
        },
        "id": "70-6y0HWjAio",
        "outputId": "a800d5f4-38c6-4e07-ea36-5dd77ecbaa01"
      },
      "execution_count": 21,
      "outputs": [
        {
          "output_type": "stream",
          "name": "stdout",
          "text": [
            "95.0\n"
          ]
        }
      ]
    },
    {
      "cell_type": "code",
      "source": [
        "x=int(input(\"enter the first number\"))\n",
        "y=int(input(\"enter the second number\"))\n",
        "if x>y :\n",
        "  print(\"x is greater\")\n",
        "else   :\n",
        "  print(\"print y is largest\")\n",
        "  "
      ],
      "metadata": {
        "colab": {
          "base_uri": "https://localhost:8080/"
        },
        "id": "cpheXzY-j2UZ",
        "outputId": "4607977c-2992-46dd-e6e4-c0472d5fd54e"
      },
      "execution_count": 24,
      "outputs": [
        {
          "output_type": "stream",
          "name": "stdout",
          "text": [
            "enter the first number21\n",
            "enter the second number5\n",
            "x is greater\n"
          ]
        }
      ]
    },
    {
      "cell_type": "code",
      "source": [
        "x=int(input(\"Enter the first number\"))\n",
        "y=int(input(\"Enter the second number\"))\n",
        "z=int(input(\"Enter the third number\"))\n",
        "if x>y and z :\n",
        "  print(\"x is the largest\")\n",
        "if y>x and z :\n",
        "  print(\"y is the largest\")\n",
        "else:\n",
        "  print(\"z is the largest\")"
      ],
      "metadata": {
        "colab": {
          "base_uri": "https://localhost:8080/"
        },
        "id": "ECr61YaSmiQy",
        "outputId": "b6d3e160-c68b-455d-b852-e9efd120252a"
      },
      "execution_count": 25,
      "outputs": [
        {
          "output_type": "stream",
          "name": "stdout",
          "text": [
            "Enter the first number100\n",
            "Enter the second number150\n",
            "Enter the third number200\n",
            "y is the largest\n"
          ]
        }
      ]
    },
    {
      "cell_type": "code",
      "source": [
        "x=int(input(\"enter first number\"))\n",
        "if x%2 == 0:\n",
        "  print(\"it is odd\")\n",
        "else :\n",
        "  print(\"it is even\")"
      ],
      "metadata": {
        "colab": {
          "base_uri": "https://localhost:8080/"
        },
        "id": "KXRDewG1q49X",
        "outputId": "0eefb072-5787-4707-b1b7-7d13972ec107"
      },
      "execution_count": 30,
      "outputs": [
        {
          "output_type": "stream",
          "name": "stdout",
          "text": [
            "enter first number5\n",
            "it is even\n"
          ]
        }
      ]
    },
    {
      "cell_type": "code",
      "source": [
        "for i in range(1,11):\n",
        "  if i%2 ==0:\n",
        "   print(i)"
      ],
      "metadata": {
        "colab": {
          "base_uri": "https://localhost:8080/"
        },
        "id": "FbqANlU_vQzE",
        "outputId": "7bdad7bc-07dd-4d1e-b853-2477a967118a"
      },
      "execution_count": 37,
      "outputs": [
        {
          "output_type": "stream",
          "name": "stdout",
          "text": [
            "2\n",
            "4\n",
            "6\n",
            "8\n",
            "10\n"
          ]
        }
      ]
    },
    {
      "cell_type": "code",
      "source": [],
      "metadata": {
        "id": "ZSjWtqaY0EnP"
      },
      "execution_count": null,
      "outputs": []
    }
  ]
}