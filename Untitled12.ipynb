{
  "nbformat": 4,
  "nbformat_minor": 0,
  "metadata": {
    "colab": {
      "provenance": [],
      "authorship_tag": "ABX9TyMjRCHTMJtaOuk0F17oYv8x",
      "include_colab_link": true
    },
    "kernelspec": {
      "name": "python3",
      "display_name": "Python 3"
    },
    "language_info": {
      "name": "python"
    }
  },
  "cells": [
    {
      "cell_type": "markdown",
      "metadata": {
        "id": "view-in-github",
        "colab_type": "text"
      },
      "source": [
        "<a href=\"https://colab.research.google.com/github/AbhiramBalakrishnaBhat/python-basics/blob/main/Untitled12.ipynb\" target=\"_parent\"><img src=\"https://colab.research.google.com/assets/colab-badge.svg\" alt=\"Open In Colab\"/></a>"
      ]
    },
    {
      "cell_type": "code",
      "source": [
        "def display():\n",
        "  print('fifa world cup 2022')\n",
        "display()"
      ],
      "metadata": {
        "colab": {
          "base_uri": "https://localhost:8080/"
        },
        "id": "4Fh_wPSMwNf9",
        "outputId": "02b6819b-aaf5-4750-b2cd-5d955026bed1"
      },
      "execution_count": 6,
      "outputs": [
        {
          "output_type": "stream",
          "name": "stdout",
          "text": [
            "fifa world cup 2022\n"
          ]
        }
      ]
    },
    {
      "cell_type": "code",
      "source": [
        "def display(x1,x2,x3):\n",
        "  print(x1,x2,x3)\n",
        "display(\"ab\",\"ba\",\"bh\")"
      ],
      "metadata": {
        "colab": {
          "base_uri": "https://localhost:8080/"
        },
        "id": "kw1SfmsfwhHV",
        "outputId": "73e752a9-9916-42e2-c2de-cf9eb6091d35"
      },
      "execution_count": 7,
      "outputs": [
        {
          "output_type": "stream",
          "name": "stdout",
          "text": [
            "ab ba bh\n"
          ]
        }
      ]
    },
    {
      "cell_type": "code",
      "source": [
        "def gig():\n",
        "  x=input('enter the first name')\n",
        "  y=input('enter the middle name')\n",
        "  z=input('enter the last name')\n",
        "  print(z,y,x)\n",
        "gig()"
      ],
      "metadata": {
        "colab": {
          "base_uri": "https://localhost:8080/"
        },
        "id": "TkJ1TjDkzmjD",
        "outputId": "b2c7bfaf-5162-4ab7-dde7-a5bc8b8bb497"
      },
      "execution_count": 8,
      "outputs": [
        {
          "output_type": "stream",
          "name": "stdout",
          "text": [
            "enter the first nameabhiram\n",
            "enter the middle namebalakrishna\n",
            "enter the last namebhat\n",
            "bhat balakrishna abhiram\n"
          ]
        }
      ]
    },
    {
      "cell_type": "code",
      "source": [
        "def fun_name(country= 'Norway'):\n",
        "  print(\"I am from\" + country)\n",
        "\n",
        "fun_name(\" Sweden\")\n",
        "fun_name(\" India\")\n",
        "fun_name()\n",
        "fun_name(\" Brazil\")"
      ],
      "metadata": {
        "colab": {
          "base_uri": "https://localhost:8080/"
        },
        "id": "oyVEVa5P0_mp",
        "outputId": "197220ee-2c9e-4c24-99c7-cf4fb3c3377d"
      },
      "execution_count": 15,
      "outputs": [
        {
          "output_type": "stream",
          "name": "stdout",
          "text": [
            "I am from Sweden\n",
            "I am from India\n",
            "I am fromNorway\n",
            "I am from Brazil\n"
          ]
        }
      ]
    },
    {
      "cell_type": "code",
      "source": [
        "def name(*x):\n",
        "  print('my favourate player is',chris[1])\n",
        "  print('my favourate player is',abi[2])\n",
        "chris=['messi','ronaldo','naymer']\n",
        "abi=['pepe','suarus','sala']\n",
        "name(chris)\n",
        "name(abi)"
      ],
      "metadata": {
        "colab": {
          "base_uri": "https://localhost:8080/"
        },
        "id": "xJtCf_qq3x54",
        "outputId": "ca99298f-afac-42f6-f4ef-dc64f3bf3fc1"
      },
      "execution_count": 16,
      "outputs": [
        {
          "output_type": "stream",
          "name": "stdout",
          "text": [
            "my favourate player is ronaldo\n",
            "my favourate player is sala\n",
            "my favourate player is ronaldo\n",
            "my favourate player is sala\n"
          ]
        }
      ]
    },
    {
      "cell_type": "code",
      "source": [
        "d"
      ],
      "metadata": {
        "id": "zWbbgH1752yb"
      },
      "execution_count": null,
      "outputs": []
    }
  ]
}