{
  "nbformat": 4,
  "nbformat_minor": 0,
  "metadata": {
    "colab": {
      "provenance": [],
      "authorship_tag": "ABX9TyNxcDQ4oWbZGBXb5JOy1K0r",
      "include_colab_link": true
    },
    "kernelspec": {
      "name": "python3",
      "display_name": "Python 3"
    },
    "language_info": {
      "name": "python"
    }
  },
  "cells": [
    {
      "cell_type": "markdown",
      "metadata": {
        "id": "view-in-github",
        "colab_type": "text"
      },
      "source": [
        "<a href=\"https://colab.research.google.com/github/AbhiramBalakrishnaBhat/python-basics/blob/main/Untitled11.ipynb\" target=\"_parent\"><img src=\"https://colab.research.google.com/assets/colab-badge.svg\" alt=\"Open In Colab\"/></a>"
      ]
    },
    {
      "cell_type": "code",
      "execution_count": null,
      "metadata": {
        "colab": {
          "base_uri": "https://localhost:8080/"
        },
        "id": "un2wKel6uvHZ",
        "outputId": "5bd85940-817c-4665-8db8-e1fbf3fcbae7"
      },
      "outputs": [
        {
          "output_type": "stream",
          "name": "stdout",
          "text": [
            "enter the number to display the corresponding multiples 2\n",
            "2\n",
            "4\n",
            "6\n",
            "8\n",
            "10\n",
            "12\n",
            "14\n",
            "16\n",
            "18\n",
            "20\n"
          ]
        }
      ],
      "source": [
        "num=int(input(\"enter the number to display the corresponding multiples\"))\n",
        "for i in range(1,11):\n",
        "  print(i*num)"
      ]
    },
    {
      "cell_type": "code",
      "source": [],
      "metadata": {
        "id": "thY4DLwMvC9j"
      },
      "execution_count": null,
      "outputs": []
    },
    {
      "cell_type": "code",
      "execution_count": null,
      "metadata": {
        "colab": {
          "base_uri": "https://localhost:8080/"
        },
        "outputId": "42183c10-053a-4b77-f457-bd82bd31c0c8",
        "id": "NOoVwiUWvq5M"
      },
      "outputs": [
        {
          "output_type": "stream",
          "name": "stdout",
          "text": [
            "enter the number to display the corresponding multiples 2\n",
            "1 * 2 = 2\n",
            "2 * 2 = 4\n",
            "3 * 2 = 6\n",
            "4 * 2 = 8\n",
            "5 * 2 = 10\n",
            "6 * 2 = 12\n",
            "7 * 2 = 14\n",
            "8 * 2 = 16\n",
            "9 * 2 = 18\n",
            "10 * 2 = 20\n"
          ]
        }
      ],
      "source": [
        "num=int(input(\"enter the number to display the corresponding multiples\"))\n",
        "for i in range(1,11):\n",
        "  print(i,\"*\",num,\"=\",i*num)"
      ]
    },
    {
      "cell_type": "code",
      "source": [
        "num=int(input())\n",
        "i=1\n",
        "while(i<=10):\n",
        "  print(i,\"*\",num,\"=\",i*num)\n",
        "  i=i+1\n"
      ],
      "metadata": {
        "colab": {
          "base_uri": "https://localhost:8080/"
        },
        "id": "kcpa-95Cvxc9",
        "outputId": "875031ba-08a1-4e43-f333-55b4c5c455f9"
      },
      "execution_count": null,
      "outputs": [
        {
          "output_type": "stream",
          "name": "stdout",
          "text": [
            "4\n",
            "1 * 4 = 4\n",
            "2 * 4 = 8\n",
            "3 * 4 = 12\n",
            "4 * 4 = 16\n",
            "5 * 4 = 20\n",
            "6 * 4 = 24\n",
            "7 * 4 = 28\n",
            "8 * 4 = 32\n",
            "9 * 4 = 36\n",
            "10 * 4 = 40\n"
          ]
        }
      ]
    },
    {
      "cell_type": "code",
      "source": [
        "num=input(\"enter the number\")\n",
        "d=0\n",
        "for i in num:\n",
        "  #print(i)\n",
        "  d=d+1\n",
        "print(d)\n"
      ],
      "metadata": {
        "id": "0oyAKIfayKXU",
        "colab": {
          "base_uri": "https://localhost:8080/"
        },
        "outputId": "790ae264-fb40-45b9-a15e-0f0f91d32933"
      },
      "execution_count": 18,
      "outputs": [
        {
          "output_type": "stream",
          "name": "stdout",
          "text": [
            "enter the number400\n",
            "3\n"
          ]
        }
      ]
    },
    {
      "cell_type": "code",
      "source": [
        "import statistics \n",
        "math=int(input('Maths mark'))\n",
        "eng=int(input(\"English marks\"))\n",
        "eco=int(input(\"Economics marks\"))\n",
        "bs=int(input('Business studies marks'))\n",
        "mal=int(input('Malayalam marks'))\n",
        "x=(math,eng,eco,bs,mal)\n",
        "z=min(x)\n",
        "print(\"Least marks\",z)\n",
        "y=max(x)\n",
        "print(\"Maximum marks\",y)\n",
        "k=statistics.mean(x)\n",
        "print('Average',k)\n"
      ],
      "metadata": {
        "colab": {
          "base_uri": "https://localhost:8080/"
        },
        "id": "YI0frdbS391W",
        "outputId": "c549228c-38e3-492a-d1cd-aeac63a6fe93"
      },
      "execution_count": 19,
      "outputs": [
        {
          "output_type": "stream",
          "name": "stdout",
          "text": [
            "Maths mark 80\n",
            "English marks 85\n",
            "Economics marks 90\n",
            "Business studies marks 98\n",
            "Malayalam marks 85\n",
            "Least marks 80\n",
            "Maximum marks 98\n",
            "Average 87.6\n"
          ]
        }
      ]
    },
    {
      "cell_type": "code",
      "source": [],
      "metadata": {
        "id": "53QtqTPAAGYM"
      },
      "execution_count": null,
      "outputs": []
    }
  ]
}